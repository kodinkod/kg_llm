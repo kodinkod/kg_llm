{
 "cells": [
  {
   "cell_type": "markdown",
   "metadata": {},
   "source": [
    "### Метаданные"
   ]
  },
  {
   "cell_type": "code",
   "execution_count": 7,
   "metadata": {},
   "outputs": [],
   "source": [
    "import os\n",
    "os.environ[\"OPENAI_API_KEY\"] = \"sk-kFANI4tptQfVJAZKpbRxDNBVODFDrOdk\"\n",
    "os.environ[\"NEO4J_URI\"] =\"bolt://localhost:7687\"\n",
    "os.environ[\"NEO4J_USERNAME\"] = \"kodin\"\n",
    "os.environ[\"NEO4J_PASSWORD\"] = \"12345678\""
   ]
  },
  {
   "cell_type": "code",
   "execution_count": 8,
   "metadata": {},
   "outputs": [],
   "source": [
    "import os\n",
    "from langchain.document_loaders import WikipediaLoader\n",
    "from langchain.text_splitter import TokenTextSplitter\n",
    "\n",
    "from langchain_openai import ChatOpenAI\n",
    "from langchain_experimental.graph_transformers import LLMGraphTransformer\n",
    "from langchain_community.graphs import Neo4jGraph"
   ]
  },
  {
   "cell_type": "markdown",
   "metadata": {},
   "source": [
    "### Подключаемся к графу"
   ]
  },
  {
   "cell_type": "code",
   "execution_count": 9,
   "metadata": {},
   "outputs": [],
   "source": [
    "graph = Neo4jGraph(database='testdb')"
   ]
  },
  {
   "cell_type": "markdown",
   "metadata": {},
   "source": [
    "### Индексируем Header_node"
   ]
  },
  {
   "cell_type": "code",
   "execution_count": 10,
   "metadata": {},
   "outputs": [],
   "source": [
    "from langchain_community.vectorstores import Neo4jVector\n",
    "from langchain_openai import OpenAIEmbeddings\n",
    "\n",
    "vector_index = Neo4jVector.from_existing_graph(\n",
    "    OpenAIEmbeddings(base_url='https://api.proxyapi.ru/openai/v1'),\n",
    "    search_type=\"hybrid\",\n",
    "    node_label=\"Header_node\",\n",
    "    text_node_properties=[\"text\"],\n",
    "    embedding_node_property=\"embedding\",\n",
    "    database='testdb'\n",
    ")\n"
   ]
  },
  {
   "cell_type": "code",
   "execution_count": 12,
   "metadata": {},
   "outputs": [],
   "source": [
    "query = \"Как скачать \"\n",
    "docs_with_score_1 = vector_index.similarity_search_with_score(query, k=5)"
   ]
  },
  {
   "cell_type": "code",
   "execution_count": 13,
   "metadata": {},
   "outputs": [
    {
     "data": {
      "text/plain": [
       "[(Document(page_content='\\ntext: ПП поставляется в электронном виде и включает в себя следующий набор файлов:'),\n",
       "  1.0),\n",
       " (Document(page_content='\\ntext: Наличие доступа в Интернет:'),\n",
       "  0.992750232111142),\n",
       " (Document(page_content='\\ntext: Наличие доступа в Интернет'),\n",
       "  0.9921729612176229),\n",
       " (Document(page_content='\\ntext: В окне настроек необходимо выбрать один из режимов проверки (по умолчанию - медленный):'),\n",
       "  0.9900717030523256),\n",
       " (Document(page_content='\\ntext: В главном окне отображаются вкладки с информацией по модулям:'),\n",
       "  0.9889705307251003)]"
      ]
     },
     "execution_count": 13,
     "metadata": {},
     "output_type": "execute_result"
    }
   ],
   "source": [
    "docs_with_score_1"
   ]
  },
  {
   "cell_type": "markdown",
   "metadata": {},
   "source": [
    "## demo retrive"
   ]
  },
  {
   "cell_type": "code",
   "execution_count": 43,
   "metadata": {},
   "outputs": [],
   "source": [
    "def print_neighbors(conn, node_id, radius=1):\n",
    "    query = f\"\"\"\n",
    "    MATCH (n)-[*1..{radius}]-(m)\n",
    "    WHERE properties(n).id = \"{node_id}\"\n",
    "    RETURN collect(distinct m) as neighbors\n",
    "    \"\"\"\n",
    "    results = conn.query(query)\n",
    "    neighbors = results[0]['neighbors'] if results else []\n",
    "    \n",
    "    print(f\"Neighbors of node with ID {node_id} (radius {radius}):\")\n",
    "    for neighbor in neighbors:\n",
    "        try:\n",
    "            print(f\"Node ID: {neighbor.id}, Properties: {dict(neighbor)}\")\n",
    "        except:\n",
    "            pass"
   ]
  },
  {
   "cell_type": "code",
   "execution_count": 46,
   "metadata": {},
   "outputs": [
    {
     "name": "stdout",
     "output_type": "stream",
     "text": [
      "||||||||||||||||||||||||||||||||||||||||||||||||||||||||||||||||||||||||||||||||\n",
      "Score:  1.0\n",
      "================================================================================\n",
      "doc.page_content:  \n",
      "text: ПП поставляется в электронном виде и включает в себя следующий набор файлов:\n",
      "================================================================================\n",
      "-\n",
      "ПП поставляется в электронном виде и включает в себя следующий набор файлов:  - > •\tDozor.1.0.0.rpm (для Alt Linux) или Dozor.1.0.0.deb (для Astra Linux) содержит файлы установки.\n",
      "•\tРуководство пользователя (данный документ).\n",
      "\n",
      "2.1 Назначение и структура  - > ПП поставляется в электронном виде и включает в себя следующий набор файлов:\n",
      "2 Назначение и основные возможности ПП  - > ПП поставляется в электронном виде и включает в себя следующий набор файлов:\n",
      "content  - > ПП поставляется в электронном виде и включает в себя следующий набор файлов:\n",
      "content  - > ПП поставляется в электронном виде и включает в себя следующий набор файлов:\n",
      "-\n",
      "||||||||||||||||||||||||||||||||||||||||||||||||||||||||||||||||||||||||||||||||\n",
      "Score:  0.992750232111142\n",
      "================================================================================\n",
      "doc.page_content:  \n",
      "text: Наличие доступа в Интернет:\n",
      "================================================================================\n",
      "-\n",
      "Наличие доступа в Интернет:  - > Для обновления информационных баз, используемых ПП, и их последующей проверки требуется интернет-соединение со скоростью от 64 Кбит/сек.\n",
      "Наличие доступа в Интернет:  - > Для установки и настройки ПП компьютер должен быть оснащён манипулятором «мышь».\n",
      "path  - > Наличие доступа в Интернет:\n",
      "Операционная система  - > Наличие доступа в Интернет:\n",
      "path  - > Наличие доступа в Интернет:\n",
      "2 Технические требования  - > Наличие доступа в Интернет:\n",
      "2.2 Технические требования  - > Наличие доступа в Интернет:\n",
      "content  - > Наличие доступа в Интернет:\n",
      "content  - > Наличие доступа в Интернет:\n",
      "-\n",
      "||||||||||||||||||||||||||||||||||||||||||||||||||||||||||||||||||||||||||||||||\n",
      "Score:  0.9921729612176229\n",
      "================================================================================\n",
      "doc.page_content:  \n",
      "text: Наличие доступа в Интернет\n",
      "================================================================================\n",
      "-\n",
      "Наличие доступа в Интернет  - > Для обновления информационных баз, используемых ПП, и их последующей проверки требуется интернет-соединение со скоростью от 64 Кбит/сек.\n",
      "Наличие доступа в Интернет  - > Для установки и настройки ПП компьютер должен быть оснащён манипулятором «мышь».\n",
      "Операционная система  - > Наличие доступа в Интернет\n",
      "path  - > Наличие доступа в Интернет\n",
      "2 Технические требования  - > Наличие доступа в Интернет\n",
      "2.2 Технические требования  - > Наличие доступа в Интернет\n",
      "content  - > Наличие доступа в Интернет\n",
      "content  - > Наличие доступа в Интернет\n",
      "-\n",
      "||||||||||||||||||||||||||||||||||||||||||||||||||||||||||||||||||||||||||||||||\n",
      "Score:  0.9900717030523256\n",
      "================================================================================\n",
      "doc.page_content:  \n",
      "text: В окне настроек необходимо выбрать один из режимов проверки (по умолчанию - медленный):\n",
      "================================================================================\n",
      "-\n",
      "В окне настроек необходимо выбрать один из режимов проверки (по умолчанию - медленный):  - > •\tМедленный – проверка сайтов будет происходить поочередно, время проверки увеличится, нагрузка на сеть и компьютер уменьшится.\n",
      "•\tОбычный – проверка будет происходить по нескольким сайтам одновременно (кол-во одновременно проверяемых сайтов зависит от количества физических ядер процессора), время проверки уменьшится, нагрузка на сеть и компьютер увеличится.\n",
      "•\tБыстрый – проверка будет происходить по нескольким сайтам одновременно (кол-во одновременно проверяемых сайтов равно количеству ядер процессора, умноженному на 4), время проверки уменьшится, нагрузка на сеть и компьютер увеличится.\n",
      "\n",
      "3.1 Настройка параметров и расписания проверки  - > В окне настроек необходимо выбрать один из режимов проверки (по умолчанию - медленный):\n",
      "3 Первоначальная настройка  - > В окне настроек необходимо выбрать один из режимов проверки (по умолчанию - медленный):\n",
      "content  - > В окне настроек необходимо выбрать один из режимов проверки (по умолчанию - медленный):\n",
      "content  - > В окне настроек необходимо выбрать один из режимов проверки (по умолчанию - медленный):\n",
      "-\n",
      "||||||||||||||||||||||||||||||||||||||||||||||||||||||||||||||||||||||||||||||||\n",
      "Score:  0.9889705307251003\n",
      "================================================================================\n",
      "doc.page_content:  \n",
      "text: В главном окне отображаются вкладки с информацией по модулям:\n",
      "================================================================================\n",
      "-\n",
      "В главном окне отображаются вкладки с информацией по модулям:  - > •\tВкладка «Антивирус» (рисунок 8) – содержит данные о проверке антивируса. Отображается список установленных пакетов антивирусов.\n",
      "\n",
      "4.1 Сводная информация о состоянии безопасности  - > В главном окне отображаются вкладки с информацией по модулям:\n",
      "4 Просмотр отчётов о проверках  - > В главном окне отображаются вкладки с информацией по модулям:\n",
      "content  - > В главном окне отображаются вкладки с информацией по модулям:\n",
      "content  - > В главном окне отображаются вкладки с информацией по модулям:\n",
      "-\n"
     ]
    }
   ],
   "source": [
    "for doc, score in docs_with_score_1:\n",
    "    print(\"|\" * 80)\n",
    "    print(\"Score: \", score)\n",
    "    print(\"=\" * 80)\n",
    "    name = doc.page_content.replace('\\ntext: ','')\n",
    "    print('doc.page_content: ', doc.page_content)\n",
    "    print(\"=\" * 80)\n",
    "    \n",
    "    resp = graph.query(f\"\"\"\n",
    "                        MATCH (n)-[*1..2]->(m)\n",
    "                        WHERE properties(m).id = \"{name}\"\n",
    "                        RETURN n\n",
    "                        \"\"\")\n",
    "    \n",
    "    resp2 = graph.query(f\"\"\"\n",
    "                        MATCH (n)-[*1..5]->(m)\n",
    "                        WHERE properties(n).id = \"{name}\"\n",
    "                        RETURN m\n",
    "                        \"\"\")\n",
    "    \n",
    "    print('-')  \n",
    "    for node in resp2[::-1]:\n",
    "        node_to = node['m']['text'].strip()\n",
    "        node_to = \" \".join(node_to.split(' '))\n",
    "        \n",
    "        print(f\"{name}  - > {node['m']['text']}\")\n",
    "        \n",
    "    \n",
    "    for node in resp:\n",
    "        \n",
    "        node_from = node['n']['text'].strip()\n",
    "        node_from = \" \".join(node_from.split())\n",
    "        \n",
    "        print(f\"{node_from}  - > {name}\")\n",
    "    print('-')"
   ]
  },
  {
   "cell_type": "code",
   "execution_count": null,
   "metadata": {},
   "outputs": [],
   "source": []
  }
 ],
 "metadata": {
  "kernelspec": {
   "display_name": "kg-llm-A_Fd_ayW-py3.9",
   "language": "python",
   "name": "python3"
  },
  "language_info": {
   "codemirror_mode": {
    "name": "ipython",
    "version": 3
   },
   "file_extension": ".py",
   "mimetype": "text/x-python",
   "name": "python",
   "nbconvert_exporter": "python",
   "pygments_lexer": "ipython3",
   "version": "3.9.13"
  }
 },
 "nbformat": 4,
 "nbformat_minor": 2
}
