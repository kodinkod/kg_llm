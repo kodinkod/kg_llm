{
 "cells": [
  {
   "cell_type": "code",
   "execution_count": 109,
   "metadata": {},
   "outputs": [],
   "source": [
    "import sys\n",
    "import os\n",
    "sys.path.insert(0, os.getcwd())\n",
    "\n",
    "\n",
    "from src.docx2graph.utils import build_knowledge_graph, draw_graph, get_triples_from_dcx, node_link_data\n",
    "from langchain_core.documents.base import Document\n",
    "from docx_parser.document_parser import DOCXParser\n",
    "\n",
    "doc_path=\"/Applications/programming/kg_llm/dozor/install.docx\"\n",
    "parser = DOCXParser()\n",
    "parser.parse(doc_path)\n",
    "\n",
    "\n",
    "triples, _ = get_triples_from_dcx(parser.get_lines_with_meta())\n",
    "G = build_knowledge_graph(triples)\n",
    "link_data_json = node_link_data(G)\n"
   ]
  },
  {
   "cell_type": "code",
   "execution_count": 110,
   "metadata": {},
   "outputs": [],
   "source": [
    "from langchain_community.graphs.graph_document import GraphDocument, Node,Relationship"
   ]
  },
  {
   "cell_type": "code",
   "execution_count": 111,
   "metadata": {},
   "outputs": [],
   "source": [
    "nodes = []\n",
    "relationships = []\n",
    "source = []\n",
    "for triplet in triples:\n",
    "    src = Node(id=triplet[0].text[:100], \n",
    "               type=triplet[0].__class__.__name__, \n",
    "               properties = {'text': triplet[0].text})\n",
    "    \n",
    "    target = Node(id=triplet[2].text[:100], \n",
    "                  type=triplet[2].__class__.__name__, \n",
    "                  properties = {'text': triplet[2].text})\n",
    "    nodes.append(src)\n",
    "    nodes.append(target)\n",
    "    \n",
    "    relationships.append(\n",
    "        Relationship(source=src, \n",
    "                     target=target, \n",
    "                     type=triplet[1])\n",
    "    )\n",
    "    \n",
    "    source = Document(page_content=\"content\")\n",
    "    graph_documents = GraphDocument(nodes=nodes, relationships=relationships, source=source)"
   ]
  },
  {
   "cell_type": "code",
   "execution_count": 112,
   "metadata": {},
   "outputs": [],
   "source": [
    "os.environ[\"NEO4J_URI\"] =\"bolt://localhost:7687\"\n",
    "os.environ[\"NEO4J_USERNAME\"] = \"kodin\"\n",
    "os.environ[\"NEO4J_PASSWORD\"] = \"12345678\""
   ]
  },
  {
   "cell_type": "code",
   "execution_count": 113,
   "metadata": {},
   "outputs": [],
   "source": [
    "from langchain_community.graphs import Neo4jGraph\n",
    "graph = Neo4jGraph(database='dozortedocx')"
   ]
  },
  {
   "cell_type": "code",
   "execution_count": 114,
   "metadata": {},
   "outputs": [],
   "source": [
    "graph.add_graph_documents(\n",
    "    [graph_documents],\n",
    "    baseEntityLabel=True,\n",
    "    include_source=True\n",
    ")"
   ]
  },
  {
   "cell_type": "code",
   "execution_count": null,
   "metadata": {},
   "outputs": [],
   "source": []
  },
  {
   "cell_type": "code",
   "execution_count": null,
   "metadata": {},
   "outputs": [],
   "source": []
  }
 ],
 "metadata": {
  "kernelspec": {
   "display_name": "kg-llm-A_Fd_ayW-py3.9",
   "language": "python",
   "name": "python3"
  },
  "language_info": {
   "codemirror_mode": {
    "name": "ipython",
    "version": 3
   },
   "file_extension": ".py",
   "mimetype": "text/x-python",
   "name": "python",
   "nbconvert_exporter": "python",
   "pygments_lexer": "ipython3",
   "version": "3.9.13"
  }
 },
 "nbformat": 4,
 "nbformat_minor": 2
}
